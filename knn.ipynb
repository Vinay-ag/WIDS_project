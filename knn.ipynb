{
 "cells": [
  {
   "cell_type": "code",
   "execution_count": 169,
   "id": "4410706a-5c45-43ed-a1c2-5a3b58b5648e",
   "metadata": {},
   "outputs": [],
   "source": [
    "import csv\n",
    "\n",
    "# Read the .txt file\n",
    "input_file = \"data.txt\"  # Replace with your file name\n",
    "output_file = \"data.csv\"  # Name of the output CSV file\n",
    "\n",
    "# Open the input file and output file\n",
    "with open(input_file, \"r\") as txt_file, open(output_file, \"w\", newline=\"\") as csv_file:\n",
    "    csv_writer = csv.writer(csv_file)  # Create a CSV writer object\n",
    "    \n",
    "    for line in txt_file:\n",
    "        # Split the line into columns based on the comma delimiter\n",
    "        row = line.strip().split(\",\")\n",
    "        csv_writer.writerow(row)  # Write the row to the CSV file\n"
   ]
  },
  {
   "cell_type": "code",
   "execution_count": 170,
   "id": "3477ec80-b763-46bf-a57b-fa02c45c69c5",
   "metadata": {},
   "outputs": [],
   "source": [
    "import pandas as pd\n",
    "import numpy as np"
   ]
  },
  {
   "cell_type": "code",
   "execution_count": 179,
   "id": "ba6967c1-54b0-46f4-bc41-876708171539",
   "metadata": {},
   "outputs": [
    {
     "data": {
      "text/html": [
       "<div>\n",
       "<style scoped>\n",
       "    .dataframe tbody tr th:only-of-type {\n",
       "        vertical-align: middle;\n",
       "    }\n",
       "\n",
       "    .dataframe tbody tr th {\n",
       "        vertical-align: top;\n",
       "    }\n",
       "\n",
       "    .dataframe thead th {\n",
       "        text-align: right;\n",
       "    }\n",
       "</style>\n",
       "<table border=\"1\" class=\"dataframe\">\n",
       "  <thead>\n",
       "    <tr style=\"text-align: right;\">\n",
       "      <th></th>\n",
       "      <th>x</th>\n",
       "      <th>y</th>\n",
       "    </tr>\n",
       "  </thead>\n",
       "  <tbody>\n",
       "    <tr>\n",
       "      <th>0</th>\n",
       "      <td>-2.127299</td>\n",
       "      <td>1.753572</td>\n",
       "    </tr>\n",
       "    <tr>\n",
       "      <th>1</th>\n",
       "      <td>-0.340030</td>\n",
       "      <td>-0.006708</td>\n",
       "    </tr>\n",
       "    <tr>\n",
       "      <th>2</th>\n",
       "      <td>-3.219907</td>\n",
       "      <td>-2.220027</td>\n",
       "    </tr>\n",
       "    <tr>\n",
       "      <th>3</th>\n",
       "      <td>-3.709582</td>\n",
       "      <td>1.330881</td>\n",
       "    </tr>\n",
       "    <tr>\n",
       "      <th>4</th>\n",
       "      <td>-0.994425</td>\n",
       "      <td>0.540363</td>\n",
       "    </tr>\n",
       "  </tbody>\n",
       "</table>\n",
       "</div>"
      ],
      "text/plain": [
       "          x         y\n",
       "0 -2.127299  1.753572\n",
       "1 -0.340030 -0.006708\n",
       "2 -3.219907 -2.220027\n",
       "3 -3.709582  1.330881\n",
       "4 -0.994425  0.540363"
      ]
     },
     "execution_count": 179,
     "metadata": {},
     "output_type": "execute_result"
    }
   ],
   "source": [
    "df = pd.read_csv('data.csv',header=None)\n",
    "df.columns = ['x', 'y']\n",
    "df.head()"
   ]
  },
  {
   "cell_type": "code",
   "execution_count": 177,
   "id": "e860c700-b26d-48d7-9ab6-76255682fac7",
   "metadata": {},
   "outputs": [
    {
     "data": {
      "text/plain": [
       "60"
      ]
     },
     "execution_count": 177,
     "metadata": {},
     "output_type": "execute_result"
    }
   ],
   "source": [
    "train_data = df.values\n",
    "train_data.shape[0]"
   ]
  },
  {
   "cell_type": "code",
   "execution_count": null,
   "id": "e41daf04-0dfd-45f3-be24-d0e28fbe08f4",
   "metadata": {},
   "outputs": [],
   "source": [
    "import numpy as np\n",
    "import pandas as pd\n",
    "\n",
    "k = 3\n",
    "\n",
    "np.random.seed(42)\n",
    "df['cluster'] = np.random.randint(0, k, size=len(df))\n",
    "\n",
    "def compute_centroids(data, k):\n",
    "    centroids = []\n",
    "    for i in range(k):\n",
    "        cluster_points = data[data['cluster'] == i]\n",
    "        centroid = cluster_points[['x', 'y']].mean().values\n",
    "        centroids.append(centroid)\n",
    "    return np.array(centroids)\n",
    "\n",
    "def assign_clusters(data, centroids):\n",
    "    count = 0  # Tracks if any cluster assignment changes\n",
    "    for i in range(len(data)):\n",
    "        distances = np.linalg.norm(centroids - data.iloc[i][['x', 'y']].values, axis=1)\n",
    "        new_cluster = np.argmin(distances)\n",
    "        if new_cluster != data.at[i, 'cluster']:\n",
    "            count += 1  # Increment count if cluster changes\n",
    "            data.at[i, 'cluster'] = new_cluster\n",
    "    return count\n",
    "\n",
    "iteration = 0\n",
    "while True:\n",
    "    iteration += 1\n",
    "    \n",
    "    centroids = compute_centroids(df, k)\n",
    "    \n",
    "    count = assign_clusters(df, centroids)\n",
    "\n",
    "    if count == 0:\n",
    "        print(f\"Convergence reached at iteration {iteration}\")\n",
    "        break\n",
    "\n",
    "# Final centroids\n",
    "final_centroids = compute_centroids(df, k)\n",
    "\n",
    "# Print final cluster assignments and centroids\n",
    "print(\"Final Cluster Assignments:\")\n",
    "print(df)\n",
    "print(\"\\nFinal Centroids:\")\n",
    "print(final_centroids)\n"
   ]
  },
  {
   "cell_type": "code",
   "execution_count": null,
   "id": "a801acc8-f7f7-4aff-aa74-6aa29d3d6fa1",
   "metadata": {},
   "outputs": [],
   "source": []
  }
 ],
 "metadata": {
  "kernelspec": {
   "display_name": "Python 3 (ipykernel)",
   "language": "python",
   "name": "python3"
  },
  "language_info": {
   "codemirror_mode": {
    "name": "ipython",
    "version": 3
   },
   "file_extension": ".py",
   "mimetype": "text/x-python",
   "name": "python",
   "nbconvert_exporter": "python",
   "pygments_lexer": "ipython3",
   "version": "3.11.7"
  }
 },
 "nbformat": 4,
 "nbformat_minor": 5
}
